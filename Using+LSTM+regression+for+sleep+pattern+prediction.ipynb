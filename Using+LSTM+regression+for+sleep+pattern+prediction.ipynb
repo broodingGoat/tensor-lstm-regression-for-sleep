{
 "cells": [
  {
   "cell_type": "markdown",
   "metadata": {},
   "source": [
    "##Problem\n",
    "\n",
    "Caregiver records duration for an infant's sleep over a period of time. How do we express if there was an anomaly in sleeping patterns for the child"
   ]
  },
  {
   "cell_type": "markdown",
   "metadata": {},
   "source": [
    "##Formal Expression of Problem\n",
    "\n",
    "How to estimate expected duration of sleep at time t(i) if we know the sleep pattern at time t(i-1), t(i-2)..."
   ]
  },
  {
   "cell_type": "markdown",
   "metadata": {},
   "source": [
    "##Data\n",
    "\n",
    "* Our data is events data that parents record through different sources such as alexa or messenger\n",
    "* Nature of data is \"time series\" as it continues to be recorded, over discrete intervals\n",
    "* Data which is in JSON format is converted into CSV for purpose of model\n",
    "* Each row records [Event Time, Metadata Duration of Sleep]\n",
    "\n",
    "* For purpose of our inital model our hypothesis is that prior duration of sleep is relevant in decide how much would we sleep next. While sleep time is important, we can ignore it for now since events a recorded periodically.\n",
    "\n",
    "```\n",
    "\"_id__$oid\",\"duration\",\"event_type\",\"event_time\",\"request_id\",\"source_id\",\"child_id\",\"caregiver_id\",\"metadata__duration\"\n",
    "===================================================\n",
    "\n",
    "\"58f861d9ddd9ff0001a06ac3\",\"None\",\"sleep\",\"1492686311\",\"1234\",\"amzn1.ask.account.redacted\",\"58a40a921d90110001fd52ba\",\"58a40a921d90110001fd52b9\",\"6\"\n",
    "\n",
    "\"58f861d9ddd9ff0001a06ac4\",\"None\",\"sleep\",\"1492702596\",\"1234\",\"amzn1.ask.account.redacted\",\"58a40a921d90110001fd52ba\",\"58a40a921d90110001fd52b9\",\"7\"\n",
    "\n",
    "```"
   ]
  },
  {
   "cell_type": "markdown",
   "metadata": {},
   "source": [
    "##Approach\n",
    "* Given we are dealing with sequential data, a common practice is to use RNN (Recurrent Neural Network). In that LSTM is most successfully used\n",
    "* This is because LSTM hold good long term memories, so prediction of nth sample can be influenced by input given many steps before.\n",
    "\n",
    "###LSTM synopsis\n",
    "* Instead of classical neuron model, LSTM holds memory blocks + gates\n",
    "* Gate use a sigmoid activation function to determine block should be activated. Sigmoid function provides a range of continious values between 0 & 1. This is useful so output changes slowly compared to input\n",
    "* If it activates the gate it changes the state for the bock"
   ]
  },
  {
   "cell_type": "markdown",
   "metadata": {},
   "source": [
    "##Tools\n",
    "\n",
    "* Keras - py library built on top of tensorflow. Its an interface, which helps easy setup of neural networks\n",
    "* Anaconda for general tooling\n",
    "* Jupyter notebook for tracking. I am using docker image gw000/keras-full to run it locally"
   ]
  },
  {
   "cell_type": "code",
   "execution_count": 62,
   "metadata": {
    "collapsed": true
   },
   "outputs": [],
   "source": [
    "import numpy\n",
    "from keras.models import Sequential\n",
    "from keras.layers import Dense\n",
    "from keras.layers import LSTM\n",
    "from sklearn.preprocessing import MinMaxScaler\n",
    "from sklearn.metrics import mean_squared_error\n",
    "import math\n",
    "import pandas\n",
    "import matplotlib.pyplot as plt"
   ]
  },
  {
   "cell_type": "markdown",
   "metadata": {},
   "source": [
    "Loading inital data"
   ]
  },
  {
   "cell_type": "code",
   "execution_count": 63,
   "metadata": {
    "collapsed": false
   },
   "outputs": [
    {
     "data": {
      "image/png": "[encoded data removed]",
      "text/plain": [
       "<matplotlib.figure.Figure at 0x7fb0caa22750>"
      ]
     },
     "metadata": {},
     "output_type": "display_data"
    }
   ],
   "source": [
    "\n",
    "data = pandas.read_csv('events_db.csv', usecols=[8], engine='python')\n",
    "dataset = data # retaining for later reuse, after we transform dataset\n",
    "plt.plot(data)\n",
    "plt.show()\n"
   ]
  },
  {
   "cell_type": "code",
   "execution_count": 64,
   "metadata": {
    "collapsed": false
   },
   "outputs": [
    {
     "name": "stdout",
     "output_type": "stream",
     "text": [
      "500\n",
      "metadata__duration    4.982\n",
      "dtype: float64\n"
     ]
    }
   ],
   "source": [
    "print len(data)\n",
    "print numpy.mean(data)"
   ]
  },
  {
   "cell_type": "markdown",
   "metadata": {},
   "source": [
    "Data here is for ~500 sleep events, with most duration in between 4-6 hrs at different intervals "
   ]
  },
  {
   "cell_type": "code",
   "execution_count": 65,
   "metadata": {
    "collapsed": false
   },
   "outputs": [
    {
     "name": "stdout",
     "output_type": "stream",
     "text": [
      "[[ 6.]\n",
      " [ 7.]\n",
      " [ 6.]\n",
      " [ 6.]\n",
      " [ 7.]]\n"
     ]
    }
   ],
   "source": [
    "numpy.random.seed(7)\n",
    "dataset = dataset.values\n",
    "dataset =  dataset.astype('float32')\n",
    "print dataset[0:5]"
   ]
  },
  {
   "cell_type": "markdown",
   "metadata": {},
   "source": [
    "We will normalize the data in 0-1 range as its best practice when using sigmoid function"
   ]
  },
  {
   "cell_type": "code",
   "execution_count": 66,
   "metadata": {
    "collapsed": false
   },
   "outputs": [
    {
     "name": "stdout",
     "output_type": "stream",
     "text": [
      "[[ 0.75]\n",
      " [ 1.  ]\n",
      " [ 0.75]\n",
      " [ 0.75]\n",
      " [ 1.  ]]\n"
     ]
    }
   ],
   "source": [
    "scaler = MinMaxScaler(feature_range=(0, 1))\n",
    "dataset = scaler.fit_transform(dataset)\n",
    "print dataset[0:5]"
   ]
  },
  {
   "cell_type": "markdown",
   "metadata": {},
   "source": [
    "We now will create the dataset. What we are essentially doing here is listing out different Sleep Duration in \"Group of 3\"\n",
    "\n",
    "So if our sleep durations are [1, 2, 3, 5, 6]\n",
    "We structure it as\n",
    "```\n",
    " [1, 2, 3\n",
    "  2, 3, 5\n",
    "  3, 5, 6]\n",
    "```\n",
    "This enables us to look back last 3 sleep durations "
   ]
  },
  {
   "cell_type": "code",
   "execution_count": 67,
   "metadata": {
    "collapsed": false
   },
   "outputs": [
    {
     "name": "stdout",
     "output_type": "stream",
     "text": [
      "TrainX dataset sample\n",
      "[[ 0.75  1.    0.75]\n",
      " [ 1.    0.75  0.75]\n",
      " [ 0.75  0.75  1.  ]\n",
      " [ 0.75  1.    0.25]\n",
      " [ 1.    0.25  1.  ]]\n",
      "TrainY dataset sample\n",
      "[ 0.75  1.    0.25  1.    0.  ]\n"
     ]
    }
   ],
   "source": [
    "def create_dataset(dataset, look_back=1):\n",
    "\tdataX, dataY = [], []\n",
    "\tfor i in range(len(dataset)-look_back-1):\n",
    "\t\ta = dataset[i:(i+look_back), 0]\n",
    "\t\tdataX.append(a)\n",
    "\t\tdataY.append(dataset[i + look_back, 0])\n",
    "\treturn numpy.array(dataX), numpy.array(dataY)\n",
    "\n",
    "# create training & test dataset\n",
    "train_size = int(len(dataset) * 0.67)\n",
    "test_size = len(dataset) - train_size\n",
    "train, test = dataset[0:train_size,:], dataset[train_size:len(dataset),:]\n",
    "\n",
    "# reshape into X=t and Y=t+1\n",
    "look_back = 3\n",
    "trainX, trainY = create_dataset(train, look_back)\n",
    "testX, testY = create_dataset(test, look_back)\n",
    "print \"TrainX dataset sample\"\n",
    "print trainX[0:5]\n",
    "print \"TrainY dataset sample\"\n",
    "print trainY[0:5]\n",
    "\n",
    "# get data in shape for fiting model\n",
    "trainX = numpy.reshape(trainX, (trainX.shape[0], trainX.shape[1], 1))\n",
    "testX = numpy.reshape(testX, (testX.shape[0], testX.shape[1], 1))"
   ]
  },
  {
   "cell_type": "markdown",
   "metadata": {},
   "source": [
    "Now we come to actually applying a RNN and fitting it. In here epoch means how many times do we want to do a complete pass over the dataset\n",
    "\n",
    "Batch here is subset size of our training data"
   ]
  },
  {
   "cell_type": "code",
   "execution_count": 68,
   "metadata": {
    "collapsed": false
   },
   "outputs": [
    {
     "name": "stdout",
     "output_type": "stream",
     "text": [
      "Epoch 1/100\n",
      "1s - loss: 0.2461\n",
      "Epoch 2/100\n",
      "0s - loss: 0.1731\n",
      "Epoch 3/100\n",
      "0s - loss: 0.1176\n",
      "Epoch 4/100\n",
      "0s - loss: 0.0302\n",
      "Epoch 5/100\n",
      "0s - loss: 0.0212\n",
      "Epoch 6/100\n",
      "0s - loss: 0.0209\n",
      "Epoch 7/100\n",
      "0s - loss: 0.0208\n",
      "Epoch 8/100\n",
      "0s - loss: 0.0205\n",
      "Epoch 9/100\n",
      "0s - loss: 0.0202\n",
      "Epoch 10/100\n",
      "0s - loss: 0.0202\n",
      "Epoch 11/100\n",
      "0s - loss: 0.0202\n",
      "Epoch 12/100\n",
      "0s - loss: 0.0199\n",
      "Epoch 13/100\n",
      "0s - loss: 0.0191\n",
      "Epoch 14/100\n",
      "1s - loss: 0.0199\n",
      "Epoch 15/100\n",
      "0s - loss: 0.0197\n",
      "Epoch 16/100\n",
      "0s - loss: 0.0194\n",
      "Epoch 17/100\n",
      "0s - loss: 0.0196\n",
      "Epoch 18/100\n",
      "0s - loss: 0.0192\n",
      "Epoch 19/100\n",
      "0s - loss: 0.0191\n",
      "Epoch 20/100\n",
      "0s - loss: 0.0190\n",
      "Epoch 21/100\n",
      "1s - loss: 0.0191\n",
      "Epoch 22/100\n",
      "1s - loss: 0.0189\n",
      "Epoch 23/100\n",
      "0s - loss: 0.0188\n",
      "Epoch 24/100\n",
      "0s - loss: 0.0188\n",
      "Epoch 25/100\n",
      "0s - loss: 0.0183\n",
      "Epoch 26/100\n",
      "0s - loss: 0.0189\n",
      "Epoch 27/100\n",
      "0s - loss: 0.0185\n",
      "Epoch 28/100\n",
      "0s - loss: 0.0186\n",
      "Epoch 29/100\n",
      "0s - loss: 0.0184\n",
      "Epoch 30/100\n",
      "0s - loss: 0.0182\n",
      "Epoch 31/100\n",
      "0s - loss: 0.0183\n",
      "Epoch 32/100\n",
      "0s - loss: 0.0182\n",
      "Epoch 33/100\n",
      "0s - loss: 0.0183\n",
      "Epoch 34/100\n",
      "0s - loss: 0.0177\n",
      "Epoch 35/100\n",
      "0s - loss: 0.0180\n",
      "Epoch 36/100\n",
      "0s - loss: 0.0180\n",
      "Epoch 37/100\n",
      "0s - loss: 0.0177\n",
      "Epoch 38/100\n",
      "0s - loss: 0.0180\n",
      "Epoch 39/100\n",
      "0s - loss: 0.0178\n",
      "Epoch 40/100\n",
      "0s - loss: 0.0178\n",
      "Epoch 41/100\n",
      "0s - loss: 0.0179\n",
      "Epoch 42/100\n",
      "0s - loss: 0.0176\n",
      "Epoch 43/100\n",
      "0s - loss: 0.0178\n",
      "Epoch 44/100\n",
      "0s - loss: 0.0177\n",
      "Epoch 45/100\n",
      "0s - loss: 0.0176\n",
      "Epoch 46/100\n",
      "0s - loss: 0.0176\n",
      "Epoch 47/100\n",
      "0s - loss: 0.0172\n",
      "Epoch 48/100\n",
      "0s - loss: 0.0177\n",
      "Epoch 49/100\n",
      "1s - loss: 0.0176\n",
      "Epoch 50/100\n",
      "0s - loss: 0.0174\n",
      "Epoch 51/100\n",
      "0s - loss: 0.0176\n",
      "Epoch 52/100\n",
      "0s - loss: 0.0173\n",
      "Epoch 53/100\n",
      "0s - loss: 0.0173\n",
      "Epoch 54/100\n",
      "0s - loss: 0.0175\n",
      "Epoch 55/100\n",
      "0s - loss: 0.0173\n",
      "Epoch 56/100\n",
      "0s - loss: 0.0174\n",
      "Epoch 57/100\n",
      "0s - loss: 0.0173\n",
      "Epoch 58/100\n",
      "0s - loss: 0.0176\n",
      "Epoch 59/100\n",
      "0s - loss: 0.0172\n",
      "Epoch 60/100\n",
      "0s - loss: 0.0174\n",
      "Epoch 61/100\n",
      "0s - loss: 0.0173\n",
      "Epoch 62/100\n",
      "1s - loss: 0.0174\n",
      "Epoch 63/100\n",
      "1s - loss: 0.0174\n",
      "Epoch 64/100\n",
      "1s - loss: 0.0169\n",
      "Epoch 65/100\n",
      "1s - loss: 0.0173\n",
      "Epoch 66/100\n",
      "1s - loss: 0.0172\n",
      "Epoch 67/100\n",
      "1s - loss: 0.0172\n",
      "Epoch 68/100\n",
      "1s - loss: 0.0169\n",
      "Epoch 69/100\n",
      "0s - loss: 0.0171\n",
      "Epoch 70/100\n",
      "0s - loss: 0.0173\n",
      "Epoch 71/100\n",
      "0s - loss: 0.0173\n",
      "Epoch 72/100\n",
      "1s - loss: 0.0172\n",
      "Epoch 73/100\n",
      "0s - loss: 0.0170\n",
      "Epoch 74/100\n",
      "0s - loss: 0.0172\n",
      "Epoch 75/100\n",
      "0s - loss: 0.0170\n",
      "Epoch 76/100\n",
      "0s - loss: 0.0170\n",
      "Epoch 77/100\n",
      "0s - loss: 0.0170\n",
      "Epoch 78/100\n",
      "0s - loss: 0.0170\n",
      "Epoch 79/100\n",
      "1s - loss: 0.0172\n",
      "Epoch 80/100\n",
      "1s - loss: 0.0171\n",
      "Epoch 81/100\n",
      "1s - loss: 0.0170\n",
      "Epoch 82/100\n",
      "1s - loss: 0.0170\n",
      "Epoch 83/100\n",
      "1s - loss: 0.0174\n",
      "Epoch 84/100\n",
      "0s - loss: 0.0170\n",
      "Epoch 85/100\n",
      "0s - loss: 0.0169\n",
      "Epoch 86/100\n",
      "0s - loss: 0.0169\n",
      "Epoch 87/100\n",
      "0s - loss: 0.0169\n",
      "Epoch 88/100\n",
      "0s - loss: 0.0168\n",
      "Epoch 89/100\n",
      "0s - loss: 0.0171\n",
      "Epoch 90/100\n",
      "1s - loss: 0.0168\n",
      "Epoch 91/100\n",
      "0s - loss: 0.0169\n",
      "Epoch 92/100\n",
      "0s - loss: 0.0170\n",
      "Epoch 93/100\n",
      "0s - loss: 0.0168\n",
      "Epoch 94/100\n",
      "0s - loss: 0.0169\n",
      "Epoch 95/100\n",
      "0s - loss: 0.0166\n",
      "Epoch 96/100\n",
      "0s - loss: 0.0166\n",
      "Epoch 97/100\n",
      "0s - loss: 0.0165\n",
      "Epoch 98/100\n",
      "0s - loss: 0.0166\n",
      "Epoch 99/100\n",
      "0s - loss: 0.0164\n",
      "Epoch 100/100\n",
      "0s - loss: 0.0167\n"
     ]
    },
    {
     "data": {
      "text/plain": [
       "<keras.callbacks.History at 0x7fb0c1108090>"
      ]
     },
     "execution_count": 68,
     "metadata": {},
     "output_type": "execute_result"
    }
   ],
   "source": [
    "model = Sequential()\n",
    "model.add(LSTM(4, input_shape=(look_back, 1)))\n",
    "model.add(Dense(1)) # meant for output layer\n",
    "model.compile(loss='mean_squared_error', optimizer='adam')\n",
    "model.fit(trainX, trainY, epochs=100, batch_size=1, verbose=2)"
   ]
  },
  {
   "cell_type": "markdown",
   "metadata": {},
   "source": [
    "Now that we have a model in place. We can try to make predictions. One thing to observe is that our loss lowered at higher pace earlier, before becoming consistent."
   ]
  },
  {
   "cell_type": "code",
   "execution_count": 69,
   "metadata": {
    "collapsed": false
   },
   "outputs": [
    {
     "name": "stdout",
     "output_type": "stream",
     "text": [
      "Test RMSE Score: 0.503 RMSE\n",
      "Train RMSE Score: 0.513 RMSE\n"
     ]
    }
   ],
   "source": [
    "trainPredict = model.predict(trainX)\n",
    "testPredict = model.predict(testX)\n",
    "trainPredict = scaler.inverse_transform(trainPredict)\n",
    "trainY = scaler.inverse_transform([trainY])\n",
    "testPredict = scaler.inverse_transform(testPredict)\n",
    "testY = scaler.inverse_transform([testY])\n",
    "trainScore = math.sqrt(mean_squared_error(trainY[0], trainPredict[:,0]))\n",
    "testScore = math.sqrt(mean_squared_error(testY[0], testPredict[:,0]))\n",
    "\n",
    "print('Test RMSE Score: %.3f RMSE' % (testScore))\n",
    "print('Train RMSE Score: %.3f RMSE' % (trainScore))"
   ]
  },
  {
   "cell_type": "markdown",
   "metadata": {},
   "source": [
    "We can now look at our baseline & prediction"
   ]
  },
  {
   "cell_type": "code",
   "execution_count": 71,
   "metadata": {
    "collapsed": false
   },
   "outputs": [
    {
     "data": {
      "image/png": "[encoded data removed]",
      "text/plain": [
       "<matplotlib.figure.Figure at 0x7fb0c0f825d0>"
      ]
     },
     "metadata": {},
     "output_type": "display_data"
    },
    {
     "name": "stdout",
     "output_type": "stream",
     "text": [
      "5.0267\n"
     ]
    }
   ],
   "source": [
    "trainPredictPlot = numpy.empty_like(dataset)\n",
    "trainPredictPlot[:, :] = numpy.nan\n",
    "trainPredictPlot[look_back:len(trainPredict)+look_back, :] = trainPredict\n",
    "testPredictPlot = numpy.empty_like(dataset)\n",
    "testPredictPlot[:, :] = numpy.nan\n",
    "testPredictPlot[len(trainPredict)+(look_back*2)+1:len(dataset)-1, :] = testPredict\n",
    "plt.plot(scaler.inverse_transform(dataset))\n",
    "plt.plot(trainPredictPlot)\n",
    "plt.plot(testPredictPlot)\n",
    "plt.show()"
   ]
  },
  {
   "cell_type": "markdown",
   "metadata": {},
   "source": [
    "If we compare this graph with earlier one in [63] we can observe that from a test dataset perspective we are able to gauge most the estimates but are unable to fit further. This probably needs further more tuning. However if we get the mean for training & test data we are close to mean of over all dataset."
   ]
  },
  {
   "cell_type": "code",
   "execution_count": 73,
   "metadata": {
    "collapsed": false
   },
   "outputs": [
    {
     "name": "stdout",
     "output_type": "stream",
     "text": [
      "Mean for training prediction: 5.01911\n",
      "Mean for test prediction: 5.0267\n"
     ]
    }
   ],
   "source": [
    "print \"Mean for training prediction: %s\" %(numpy.mean(trainPredict))\n",
    "print \"Mean for test prediction: %s\" %(numpy.mean(testPredict))"
   ]
  }
 ],
 "metadata": {
  "kernelspec": {
   "display_name": "Python 2",
   "language": "python",
   "name": "python2"
  },
  "language_info": {
   "codemirror_mode": {
    "name": "ipython",
    "version": 2
   },
   "file_extension": ".py",
   "mimetype": "text/x-python",
   "name": "python",
   "nbconvert_exporter": "python",
   "pygments_lexer": "ipython2",
   "version": "2.7.13"
  }
 },
 "nbformat": 4,
 "nbformat_minor": 2
}
